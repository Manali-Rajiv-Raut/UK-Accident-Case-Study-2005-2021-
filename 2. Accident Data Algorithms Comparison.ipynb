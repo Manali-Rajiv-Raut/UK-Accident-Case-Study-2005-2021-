{
 "cells": [
  {
   "cell_type": "code",
   "execution_count": null,
   "id": "de95ee46",
   "metadata": {},
   "outputs": [],
   "source": [
    "#https://github.com/GenTaylor/Traffic-Accident-Analysis/blob/master/Machine_Learning_UK_Road_Safety_Traffic_Accidents_and_Vehicles.ipynb\n",
    "#https://www.askpython.com/python/examples/precision-and-recall-in-python"
   ]
  },
  {
   "cell_type": "code",
   "execution_count": 1,
   "id": "582794ef",
   "metadata": {},
   "outputs": [],
   "source": [
    "import seaborn as sns\n",
    "import matplotlib.pyplot as plt"
   ]
  },
  {
   "cell_type": "code",
   "execution_count": 54,
   "id": "c16df6aa",
   "metadata": {},
   "outputs": [
    {
     "data": {
      "text/html": [
       "        <script type=\"text/javascript\">\n",
       "        window.PlotlyConfig = {MathJaxConfig: 'local'};\n",
       "        if (window.MathJax && window.MathJax.Hub && window.MathJax.Hub.Config) {window.MathJax.Hub.Config({SVG: {font: \"STIX-Web\"}});}\n",
       "        if (typeof require !== 'undefined') {\n",
       "        require.undef(\"plotly\");\n",
       "        requirejs.config({\n",
       "            paths: {\n",
       "                'plotly': ['https://cdn.plot.ly/plotly-2.18.0.min']\n",
       "            }\n",
       "        });\n",
       "        require(['plotly'], function(Plotly) {\n",
       "            window._Plotly = Plotly;\n",
       "        });\n",
       "        }\n",
       "        </script>\n",
       "        "
      ]
     },
     "metadata": {},
     "output_type": "display_data"
    }
   ],
   "source": [
    "import pandas as pd\n",
    "import numpy as np\n",
    "import warnings\n",
    "import plotly.graph_objs as go\n",
    "import colorlover as cl\n",
    "from IPython.display import HTML\n",
    "from IPython.display import display\n",
    "import chart_studio.plotly as py\n",
    "from plotly import tools\n",
    "from sklearn.preprocessing import LabelEncoder,StandardScaler\n",
    "from sklearn.ensemble import ExtraTreesClassifier\n",
    "\n",
    "from sklearn.preprocessing import LabelBinarizer\n",
    "from sklearn.metrics import roc_curve\n",
    "from sklearn.metrics import RocCurveDisplay\n",
    "from itertools import cycle\n",
    "from sklearn.metrics import classification_report\n",
    "\n",
    "from sklearn.ensemble import RandomForestClassifier\n",
    "from xgboost import XGBClassifier\n",
    "from sklearn.ensemble import AdaBoostClassifier, BaggingClassifier\n",
    "from sklearn.svm import SVC\n",
    "from sklearn.neighbors import KNeighborsClassifier\n",
    "from sklearn.model_selection import cross_val_score\n",
    "from sklearn import metrics\n",
    "#from sklearn.metrics import classification_report\n",
    "from sklearn.metrics import accuracy_score, f1_score, recall_score, auc, roc_auc_score, confusion_matrix, log_loss, precision_score,recall_score\n",
    "\n",
    "import cufflinks as cf\n",
    "cf.go_offline() #will make cufflinks offline\n",
    "cf.set_config_file(offline=False, world_readable=True)\n",
    "from plotly.offline import iplot\n",
    "\n",
    "bupu = cl.scales['9']['seq']['BuPu']\n",
    "HTML( cl.to_html(bupu))\n",
    "\n",
    "warnings.filterwarnings(\"ignore\") "
   ]
  },
  {
   "cell_type": "markdown",
   "id": "65992ab0",
   "metadata": {},
   "source": [
    "### 1. Loading the data"
   ]
  },
  {
   "cell_type": "code",
   "execution_count": 3,
   "id": "ee6ce193",
   "metadata": {},
   "outputs": [],
   "source": [
    "UK_acc_data0521 = pd.read_csv(\"data/numeric_acc_0521.csv\")"
   ]
  },
  {
   "cell_type": "code",
   "execution_count": 4,
   "id": "56ed1720",
   "metadata": {},
   "outputs": [
    {
     "data": {
      "text/html": [
       "<div>\n",
       "<style scoped>\n",
       "    .dataframe tbody tr th:only-of-type {\n",
       "        vertical-align: middle;\n",
       "    }\n",
       "\n",
       "    .dataframe tbody tr th {\n",
       "        vertical-align: top;\n",
       "    }\n",
       "\n",
       "    .dataframe thead th {\n",
       "        text-align: right;\n",
       "    }\n",
       "</style>\n",
       "<table border=\"1\" class=\"dataframe\">\n",
       "  <thead>\n",
       "    <tr style=\"text-align: right;\">\n",
       "      <th></th>\n",
       "      <th>accident_index</th>\n",
       "      <th>first_road_class</th>\n",
       "      <th>first_road_number</th>\n",
       "      <th>accident_severity</th>\n",
       "      <th>carriageway_hazards</th>\n",
       "      <th>day_of_week</th>\n",
       "      <th>junction_control</th>\n",
       "      <th>junction_detail</th>\n",
       "      <th>latitude</th>\n",
       "      <th>light_conditions</th>\n",
       "      <th>...</th>\n",
       "      <th>speed_limit</th>\n",
       "      <th>time</th>\n",
       "      <th>urban_or_rural_area</th>\n",
       "      <th>weather_conditions</th>\n",
       "      <th>accident_year</th>\n",
       "      <th>pedestrian_crossing_human_control</th>\n",
       "      <th>pedestrian_crossing_physical_facilities</th>\n",
       "      <th>did_police_officer_attend_scene_of_accident</th>\n",
       "      <th>month</th>\n",
       "      <th>date</th>\n",
       "    </tr>\n",
       "  </thead>\n",
       "  <tbody>\n",
       "    <tr>\n",
       "      <th>0</th>\n",
       "      <td>200501BS00001</td>\n",
       "      <td>3</td>\n",
       "      <td>3218.0</td>\n",
       "      <td>2</td>\n",
       "      <td>0</td>\n",
       "      <td>3</td>\n",
       "      <td>-1</td>\n",
       "      <td>0</td>\n",
       "      <td>51.489096</td>\n",
       "      <td>1</td>\n",
       "      <td>...</td>\n",
       "      <td>30.0</td>\n",
       "      <td>17:42</td>\n",
       "      <td>1</td>\n",
       "      <td>2</td>\n",
       "      <td>2005</td>\n",
       "      <td>0.0</td>\n",
       "      <td>1.0</td>\n",
       "      <td>1.0</td>\n",
       "      <td>1</td>\n",
       "      <td>2005-01-04</td>\n",
       "    </tr>\n",
       "    <tr>\n",
       "      <th>1</th>\n",
       "      <td>200501BS00002</td>\n",
       "      <td>4</td>\n",
       "      <td>450.0</td>\n",
       "      <td>3</td>\n",
       "      <td>0</td>\n",
       "      <td>4</td>\n",
       "      <td>2</td>\n",
       "      <td>6</td>\n",
       "      <td>51.520075</td>\n",
       "      <td>4</td>\n",
       "      <td>...</td>\n",
       "      <td>30.0</td>\n",
       "      <td>17:36</td>\n",
       "      <td>1</td>\n",
       "      <td>1</td>\n",
       "      <td>2005</td>\n",
       "      <td>0.0</td>\n",
       "      <td>5.0</td>\n",
       "      <td>1.0</td>\n",
       "      <td>1</td>\n",
       "      <td>2005-01-05</td>\n",
       "    </tr>\n",
       "    <tr>\n",
       "      <th>2</th>\n",
       "      <td>200501BS00003</td>\n",
       "      <td>5</td>\n",
       "      <td>0.0</td>\n",
       "      <td>3</td>\n",
       "      <td>0</td>\n",
       "      <td>5</td>\n",
       "      <td>-1</td>\n",
       "      <td>0</td>\n",
       "      <td>51.525301</td>\n",
       "      <td>4</td>\n",
       "      <td>...</td>\n",
       "      <td>30.0</td>\n",
       "      <td>00:15</td>\n",
       "      <td>1</td>\n",
       "      <td>1</td>\n",
       "      <td>2005</td>\n",
       "      <td>0.0</td>\n",
       "      <td>0.0</td>\n",
       "      <td>1.0</td>\n",
       "      <td>1</td>\n",
       "      <td>2005-01-06</td>\n",
       "    </tr>\n",
       "    <tr>\n",
       "      <th>3</th>\n",
       "      <td>200501BS00004</td>\n",
       "      <td>3</td>\n",
       "      <td>3220.0</td>\n",
       "      <td>3</td>\n",
       "      <td>0</td>\n",
       "      <td>6</td>\n",
       "      <td>-1</td>\n",
       "      <td>0</td>\n",
       "      <td>51.482442</td>\n",
       "      <td>1</td>\n",
       "      <td>...</td>\n",
       "      <td>30.0</td>\n",
       "      <td>10:35</td>\n",
       "      <td>1</td>\n",
       "      <td>1</td>\n",
       "      <td>2005</td>\n",
       "      <td>0.0</td>\n",
       "      <td>0.0</td>\n",
       "      <td>1.0</td>\n",
       "      <td>1</td>\n",
       "      <td>2005-01-07</td>\n",
       "    </tr>\n",
       "    <tr>\n",
       "      <th>4</th>\n",
       "      <td>200501BS00005</td>\n",
       "      <td>9</td>\n",
       "      <td>0.0</td>\n",
       "      <td>3</td>\n",
       "      <td>0</td>\n",
       "      <td>2</td>\n",
       "      <td>-1</td>\n",
       "      <td>0</td>\n",
       "      <td>51.495752</td>\n",
       "      <td>7</td>\n",
       "      <td>...</td>\n",
       "      <td>30.0</td>\n",
       "      <td>21:13</td>\n",
       "      <td>1</td>\n",
       "      <td>1</td>\n",
       "      <td>2005</td>\n",
       "      <td>0.0</td>\n",
       "      <td>0.0</td>\n",
       "      <td>1.0</td>\n",
       "      <td>1</td>\n",
       "      <td>2005-01-10</td>\n",
       "    </tr>\n",
       "  </tbody>\n",
       "</table>\n",
       "<p>5 rows × 31 columns</p>\n",
       "</div>"
      ],
      "text/plain": [
       "  accident_index  first_road_class  first_road_number  accident_severity  \\\n",
       "0  200501BS00001                 3             3218.0                  2   \n",
       "1  200501BS00002                 4              450.0                  3   \n",
       "2  200501BS00003                 5                0.0                  3   \n",
       "3  200501BS00004                 3             3220.0                  3   \n",
       "4  200501BS00005                 9                0.0                  3   \n",
       "\n",
       "   carriageway_hazards  day_of_week  junction_control  junction_detail  \\\n",
       "0                    0            3                -1                0   \n",
       "1                    0            4                 2                6   \n",
       "2                    0            5                -1                0   \n",
       "3                    0            6                -1                0   \n",
       "4                    0            2                -1                0   \n",
       "\n",
       "    latitude  light_conditions  ... speed_limit   time  urban_or_rural_area  \\\n",
       "0  51.489096                 1  ...        30.0  17:42                    1   \n",
       "1  51.520075                 4  ...        30.0  17:36                    1   \n",
       "2  51.525301                 4  ...        30.0  00:15                    1   \n",
       "3  51.482442                 1  ...        30.0  10:35                    1   \n",
       "4  51.495752                 7  ...        30.0  21:13                    1   \n",
       "\n",
       "   weather_conditions  accident_year  pedestrian_crossing_human_control  \\\n",
       "0                   2           2005                                0.0   \n",
       "1                   1           2005                                0.0   \n",
       "2                   1           2005                                0.0   \n",
       "3                   1           2005                                0.0   \n",
       "4                   1           2005                                0.0   \n",
       "\n",
       "   pedestrian_crossing_physical_facilities  \\\n",
       "0                                      1.0   \n",
       "1                                      5.0   \n",
       "2                                      0.0   \n",
       "3                                      0.0   \n",
       "4                                      0.0   \n",
       "\n",
       "   did_police_officer_attend_scene_of_accident  month        date  \n",
       "0                                          1.0      1  2005-01-04  \n",
       "1                                          1.0      1  2005-01-05  \n",
       "2                                          1.0      1  2005-01-06  \n",
       "3                                          1.0      1  2005-01-07  \n",
       "4                                          1.0      1  2005-01-10  \n",
       "\n",
       "[5 rows x 31 columns]"
      ]
     },
     "execution_count": 4,
     "metadata": {},
     "output_type": "execute_result"
    }
   ],
   "source": [
    "UK_acc_data0521.head()"
   ]
  },
  {
   "cell_type": "code",
   "execution_count": 5,
   "id": "921b62cb",
   "metadata": {},
   "outputs": [
    {
     "data": {
      "text/plain": [
       "(2479713, 31)"
      ]
     },
     "execution_count": 5,
     "metadata": {},
     "output_type": "execute_result"
    }
   ],
   "source": [
    "UK_acc_data0521.shape"
   ]
  },
  {
   "cell_type": "code",
   "execution_count": 6,
   "id": "0ac9ec07",
   "metadata": {},
   "outputs": [
    {
     "data": {
      "text/plain": [
       "3    2075224\n",
       "2     371926\n",
       "1      32563\n",
       "Name: accident_severity, dtype: int64"
      ]
     },
     "execution_count": 6,
     "metadata": {},
     "output_type": "execute_result"
    }
   ],
   "source": [
    "UK_acc_data0521['accident_severity'].value_counts()"
   ]
  },
  {
   "cell_type": "code",
   "execution_count": null,
   "id": "ade48292",
   "metadata": {},
   "outputs": [],
   "source": [
    "#severity = {1:'Fatal', 2:'Serious',3:'Slight'}\n",
    "#UK_acc_data0521 = UK_acc_data0521.replace({\"accident_severity\": severity})\n",
    "#UK_acc_data0521['accident_severity'].value_counts()"
   ]
  },
  {
   "cell_type": "code",
   "execution_count": 7,
   "id": "e6d3b836",
   "metadata": {},
   "outputs": [
    {
     "name": "stdout",
     "output_type": "stream",
     "text": [
      "<class 'pandas.core.frame.DataFrame'>\n",
      "RangeIndex: 2479713 entries, 0 to 2479712\n",
      "Data columns (total 31 columns):\n",
      " #   Column                                       Dtype  \n",
      "---  ------                                       -----  \n",
      " 0   accident_index                               object \n",
      " 1   first_road_class                             int64  \n",
      " 2   first_road_number                            float64\n",
      " 3   accident_severity                            int64  \n",
      " 4   carriageway_hazards                          int64  \n",
      " 5   day_of_week                                  int64  \n",
      " 6   junction_control                             int64  \n",
      " 7   junction_detail                              int64  \n",
      " 8   latitude                                     float64\n",
      " 9   light_conditions                             int64  \n",
      " 10  local_authority_district                     object \n",
      " 11  local_authority_highway                      object \n",
      " 12  location_easting_osgr                        float64\n",
      " 13  location_northing_osgr                       float64\n",
      " 14  longitude                                    float64\n",
      " 15  number_of_casualties                         int64  \n",
      " 16  number_of_vehicles                           int64  \n",
      " 17  police_force                                 int64  \n",
      " 18  road_surface_conditions                      int64  \n",
      " 19  road_type                                    int64  \n",
      " 20  special_conditions_at_site                   int64  \n",
      " 21  speed_limit                                  float64\n",
      " 22  time                                         object \n",
      " 23  urban_or_rural_area                          int64  \n",
      " 24  weather_conditions                           int64  \n",
      " 25  accident_year                                int64  \n",
      " 26  pedestrian_crossing_human_control            float64\n",
      " 27  pedestrian_crossing_physical_facilities      float64\n",
      " 28  did_police_officer_attend_scene_of_accident  float64\n",
      " 29  month                                        int64  \n",
      " 30  date                                         object \n",
      "dtypes: float64(9), int64(17), object(5)\n",
      "memory usage: 586.5+ MB\n"
     ]
    }
   ],
   "source": [
    "UK_acc_data0521.info()"
   ]
  },
  {
   "cell_type": "markdown",
   "id": "609478a9",
   "metadata": {},
   "source": [
    "## Preprocessing "
   ]
  },
  {
   "cell_type": "code",
   "execution_count": 8,
   "id": "f82e49dc",
   "metadata": {},
   "outputs": [],
   "source": [
    "X = UK_acc_data0521.drop(['accident_index','latitude','location_easting_osgr','longitude','location_northing_osgr',\n",
    "                     'date','accident_severity'], axis = 1)"
   ]
  },
  {
   "cell_type": "code",
   "execution_count": 9,
   "id": "c17b053d",
   "metadata": {},
   "outputs": [
    {
     "data": {
      "text/plain": [
       "(2479713, 24)"
      ]
     },
     "execution_count": 9,
     "metadata": {},
     "output_type": "execute_result"
    }
   ],
   "source": [
    "X.shape"
   ]
  },
  {
   "cell_type": "code",
   "execution_count": 10,
   "id": "74bf7e65",
   "metadata": {},
   "outputs": [
    {
     "name": "stdout",
     "output_type": "stream",
     "text": [
      "catagory data columns Index(['local_authority_district', 'local_authority_highway', 'time'], dtype='object')\n",
      "\n",
      " Numeric data columns Index(['first_road_class', 'first_road_number', 'carriageway_hazards',\n",
      "       'day_of_week', 'junction_control', 'junction_detail',\n",
      "       'light_conditions', 'number_of_casualties', 'number_of_vehicles',\n",
      "       'police_force', 'road_surface_conditions', 'road_type',\n",
      "       'special_conditions_at_site', 'speed_limit', 'urban_or_rural_area',\n",
      "       'weather_conditions', 'accident_year',\n",
      "       'pedestrian_crossing_human_control',\n",
      "       'pedestrian_crossing_physical_facilities',\n",
      "       'did_police_officer_attend_scene_of_accident', 'month'],\n",
      "      dtype='object')\n",
      "(2479713, 3)\n",
      "(2479713, 21)\n"
     ]
    }
   ],
   "source": [
    "#separate dtypes\n",
    "cat_data = X.select_dtypes(exclude=['int','float','int64','float64'])\n",
    "num_data = X.select_dtypes(include=['int','float','int64','float64'])\n",
    "print('catagory data columns',cat_data.columns)\n",
    "print(\"\\n Numeric data columns\",num_data.columns)\n",
    "\n",
    "print(cat_data.shape)\n",
    "print(num_data.shape)"
   ]
  },
  {
   "cell_type": "code",
   "execution_count": 11,
   "id": "bdaa44ab",
   "metadata": {},
   "outputs": [],
   "source": [
    "#label encode objects\n",
    "obj_lable_encoded = cat_data.apply(LabelEncoder().fit_transform)"
   ]
  },
  {
   "cell_type": "code",
   "execution_count": 12,
   "id": "2e92be9a",
   "metadata": {},
   "outputs": [],
   "source": [
    "# concatenating feaures\n",
    "X_final = pd.concat([obj_lable_encoded,num_data], axis=1, sort=False)\n",
    "Y_final = UK_acc_data0521['accident_severity']"
   ]
  },
  {
   "cell_type": "code",
   "execution_count": 13,
   "id": "b1b0fbb3",
   "metadata": {},
   "outputs": [
    {
     "data": {
      "text/plain": [
       "((2479713, 24), (2479713,))"
      ]
     },
     "execution_count": 13,
     "metadata": {},
     "output_type": "execute_result"
    }
   ],
   "source": [
    "X_final.shape , Y_final.shape"
   ]
  },
  {
   "cell_type": "markdown",
   "id": "939f4513",
   "metadata": {},
   "source": [
    "### Extra Tree Classifier "
   ]
  },
  {
   "cell_type": "code",
   "execution_count": 14,
   "id": "61bdd4e3",
   "metadata": {},
   "outputs": [],
   "source": [
    "#https://www.geeksforgeeks.org/ml-extra-tree-classifier-for-feature-selection/"
   ]
  },
  {
   "cell_type": "code",
   "execution_count": 15,
   "id": "cee956bc",
   "metadata": {},
   "outputs": [],
   "source": [
    "extra_tree_forest = ExtraTreesClassifier(n_estimators = 5, criterion ='entropy', max_features = 2)"
   ]
  },
  {
   "cell_type": "code",
   "execution_count": 16,
   "id": "8cccd6f2",
   "metadata": {},
   "outputs": [
    {
     "data": {
      "text/html": [
       "<style>#sk-container-id-1 {color: black;background-color: white;}#sk-container-id-1 pre{padding: 0;}#sk-container-id-1 div.sk-toggleable {background-color: white;}#sk-container-id-1 label.sk-toggleable__label {cursor: pointer;display: block;width: 100%;margin-bottom: 0;padding: 0.3em;box-sizing: border-box;text-align: center;}#sk-container-id-1 label.sk-toggleable__label-arrow:before {content: \"▸\";float: left;margin-right: 0.25em;color: #696969;}#sk-container-id-1 label.sk-toggleable__label-arrow:hover:before {color: black;}#sk-container-id-1 div.sk-estimator:hover label.sk-toggleable__label-arrow:before {color: black;}#sk-container-id-1 div.sk-toggleable__content {max-height: 0;max-width: 0;overflow: hidden;text-align: left;background-color: #f0f8ff;}#sk-container-id-1 div.sk-toggleable__content pre {margin: 0.2em;color: black;border-radius: 0.25em;background-color: #f0f8ff;}#sk-container-id-1 input.sk-toggleable__control:checked~div.sk-toggleable__content {max-height: 200px;max-width: 100%;overflow: auto;}#sk-container-id-1 input.sk-toggleable__control:checked~label.sk-toggleable__label-arrow:before {content: \"▾\";}#sk-container-id-1 div.sk-estimator input.sk-toggleable__control:checked~label.sk-toggleable__label {background-color: #d4ebff;}#sk-container-id-1 div.sk-label input.sk-toggleable__control:checked~label.sk-toggleable__label {background-color: #d4ebff;}#sk-container-id-1 input.sk-hidden--visually {border: 0;clip: rect(1px 1px 1px 1px);clip: rect(1px, 1px, 1px, 1px);height: 1px;margin: -1px;overflow: hidden;padding: 0;position: absolute;width: 1px;}#sk-container-id-1 div.sk-estimator {font-family: monospace;background-color: #f0f8ff;border: 1px dotted black;border-radius: 0.25em;box-sizing: border-box;margin-bottom: 0.5em;}#sk-container-id-1 div.sk-estimator:hover {background-color: #d4ebff;}#sk-container-id-1 div.sk-parallel-item::after {content: \"\";width: 100%;border-bottom: 1px solid gray;flex-grow: 1;}#sk-container-id-1 div.sk-label:hover label.sk-toggleable__label {background-color: #d4ebff;}#sk-container-id-1 div.sk-serial::before {content: \"\";position: absolute;border-left: 1px solid gray;box-sizing: border-box;top: 0;bottom: 0;left: 50%;z-index: 0;}#sk-container-id-1 div.sk-serial {display: flex;flex-direction: column;align-items: center;background-color: white;padding-right: 0.2em;padding-left: 0.2em;position: relative;}#sk-container-id-1 div.sk-item {position: relative;z-index: 1;}#sk-container-id-1 div.sk-parallel {display: flex;align-items: stretch;justify-content: center;background-color: white;position: relative;}#sk-container-id-1 div.sk-item::before, #sk-container-id-1 div.sk-parallel-item::before {content: \"\";position: absolute;border-left: 1px solid gray;box-sizing: border-box;top: 0;bottom: 0;left: 50%;z-index: -1;}#sk-container-id-1 div.sk-parallel-item {display: flex;flex-direction: column;z-index: 1;position: relative;background-color: white;}#sk-container-id-1 div.sk-parallel-item:first-child::after {align-self: flex-end;width: 50%;}#sk-container-id-1 div.sk-parallel-item:last-child::after {align-self: flex-start;width: 50%;}#sk-container-id-1 div.sk-parallel-item:only-child::after {width: 0;}#sk-container-id-1 div.sk-dashed-wrapped {border: 1px dashed gray;margin: 0 0.4em 0.5em 0.4em;box-sizing: border-box;padding-bottom: 0.4em;background-color: white;}#sk-container-id-1 div.sk-label label {font-family: monospace;font-weight: bold;display: inline-block;line-height: 1.2em;}#sk-container-id-1 div.sk-label-container {text-align: center;}#sk-container-id-1 div.sk-container {/* jupyter's `normalize.less` sets `[hidden] { display: none; }` but bootstrap.min.css set `[hidden] { display: none !important; }` so we also need the `!important` here to be able to override the default hidden behavior on the sphinx rendered scikit-learn.org. See: https://github.com/scikit-learn/scikit-learn/issues/21755 */display: inline-block !important;position: relative;}#sk-container-id-1 div.sk-text-repr-fallback {display: none;}</style><div id=\"sk-container-id-1\" class=\"sk-top-container\"><div class=\"sk-text-repr-fallback\"><pre>ExtraTreesClassifier(criterion=&#x27;entropy&#x27;, max_features=2, n_estimators=5)</pre><b>In a Jupyter environment, please rerun this cell to show the HTML representation or trust the notebook. <br />On GitHub, the HTML representation is unable to render, please try loading this page with nbviewer.org.</b></div><div class=\"sk-container\" hidden><div class=\"sk-item\"><div class=\"sk-estimator sk-toggleable\"><input class=\"sk-toggleable__control sk-hidden--visually\" id=\"sk-estimator-id-1\" type=\"checkbox\" checked><label for=\"sk-estimator-id-1\" class=\"sk-toggleable__label sk-toggleable__label-arrow\">ExtraTreesClassifier</label><div class=\"sk-toggleable__content\"><pre>ExtraTreesClassifier(criterion=&#x27;entropy&#x27;, max_features=2, n_estimators=5)</pre></div></div></div></div></div>"
      ],
      "text/plain": [
       "ExtraTreesClassifier(criterion='entropy', max_features=2, n_estimators=5)"
      ]
     },
     "execution_count": 16,
     "metadata": {},
     "output_type": "execute_result"
    }
   ],
   "source": [
    "# Training the model\n",
    "extra_tree_forest.fit(X_final, Y_final)"
   ]
  },
  {
   "cell_type": "code",
   "execution_count": 17,
   "id": "7f67da99",
   "metadata": {},
   "outputs": [
    {
     "data": {
      "image/png": "[encoded data removed]",
      "text/plain": [
       "<Figure size 640x480 with 1 Axes>"
      ]
     },
     "metadata": {},
     "output_type": "display_data"
    }
   ],
   "source": [
    "feat_importances = pd.Series(extra_tree_forest.feature_importances_, index=X_final.columns)\n",
    "plt.xlabel('Feature Labels')\n",
    "plt.ylabel('Feature Importances')\n",
    "plt.title('Comparison of different Feature Importances')\n",
    "feat_importances.nlargest(10).plot.bar()\n",
    "plt.show()"
   ]
  },
  {
   "cell_type": "code",
   "execution_count": 18,
   "id": "1b4a2e06",
   "metadata": {},
   "outputs": [],
   "source": [
    "best_selected_features = feat_importances.nlargest(10).keys().to_list()"
   ]
  },
  {
   "cell_type": "code",
   "execution_count": 19,
   "id": "b31d8307",
   "metadata": {},
   "outputs": [
    {
     "data": {
      "text/plain": [
       "['time',\n",
       " 'local_authority_district',\n",
       " 'accident_year',\n",
       " 'month',\n",
       " 'local_authority_highway',\n",
       " 'first_road_number',\n",
       " 'day_of_week',\n",
       " 'police_force',\n",
       " 'number_of_vehicles',\n",
       " 'number_of_casualties']"
      ]
     },
     "execution_count": 19,
     "metadata": {},
     "output_type": "execute_result"
    }
   ],
   "source": [
    "best_selected_features         "
   ]
  },
  {
   "cell_type": "markdown",
   "id": "27e03237",
   "metadata": {},
   "source": [
    "### Using best selected features "
   ]
  },
  {
   "cell_type": "code",
   "execution_count": 20,
   "id": "7cd8a3cf",
   "metadata": {},
   "outputs": [],
   "source": [
    "X_col = X_final.columns"
   ]
  },
  {
   "cell_type": "code",
   "execution_count": 21,
   "id": "5511520c",
   "metadata": {},
   "outputs": [],
   "source": [
    "drop_feature_list = []\n",
    "\n",
    "for col_val in X_col:\n",
    "    if col_val not in best_selected_features:\n",
    "        drop_feature_list.append(col_val)"
   ]
  },
  {
   "cell_type": "code",
   "execution_count": 22,
   "id": "12a72ae5",
   "metadata": {},
   "outputs": [
    {
     "data": {
      "text/plain": [
       "['first_road_class',\n",
       " 'carriageway_hazards',\n",
       " 'junction_control',\n",
       " 'junction_detail',\n",
       " 'light_conditions',\n",
       " 'road_surface_conditions',\n",
       " 'road_type',\n",
       " 'special_conditions_at_site',\n",
       " 'speed_limit',\n",
       " 'urban_or_rural_area',\n",
       " 'weather_conditions',\n",
       " 'pedestrian_crossing_human_control',\n",
       " 'pedestrian_crossing_physical_facilities',\n",
       " 'did_police_officer_attend_scene_of_accident']"
      ]
     },
     "execution_count": 22,
     "metadata": {},
     "output_type": "execute_result"
    }
   ],
   "source": [
    "drop_feature_list"
   ]
  },
  {
   "cell_type": "code",
   "execution_count": 23,
   "id": "4f088c90",
   "metadata": {},
   "outputs": [
    {
     "data": {
      "text/plain": [
       "(2479713, 10)"
      ]
     },
     "execution_count": 23,
     "metadata": {},
     "output_type": "execute_result"
    }
   ],
   "source": [
    "X_final = X_final.drop(drop_feature_list, axis=1)\n",
    "X_final.shape"
   ]
  },
  {
   "cell_type": "code",
   "execution_count": 24,
   "id": "6babcf9b",
   "metadata": {},
   "outputs": [
    {
     "data": {
      "text/html": [
       "<div>\n",
       "<style scoped>\n",
       "    .dataframe tbody tr th:only-of-type {\n",
       "        vertical-align: middle;\n",
       "    }\n",
       "\n",
       "    .dataframe tbody tr th {\n",
       "        vertical-align: top;\n",
       "    }\n",
       "\n",
       "    .dataframe thead th {\n",
       "        text-align: right;\n",
       "    }\n",
       "</style>\n",
       "<table border=\"1\" class=\"dataframe\">\n",
       "  <thead>\n",
       "    <tr style=\"text-align: right;\">\n",
       "      <th></th>\n",
       "      <th>local_authority_district</th>\n",
       "      <th>local_authority_highway</th>\n",
       "      <th>time</th>\n",
       "      <th>first_road_number</th>\n",
       "      <th>day_of_week</th>\n",
       "      <th>number_of_casualties</th>\n",
       "      <th>number_of_vehicles</th>\n",
       "      <th>police_force</th>\n",
       "      <th>accident_year</th>\n",
       "      <th>month</th>\n",
       "    </tr>\n",
       "  </thead>\n",
       "  <tbody>\n",
       "    <tr>\n",
       "      <th>count</th>\n",
       "      <td>2.479713e+06</td>\n",
       "      <td>2.479713e+06</td>\n",
       "      <td>2.479713e+06</td>\n",
       "      <td>2.479713e+06</td>\n",
       "      <td>2.479713e+06</td>\n",
       "      <td>2.479713e+06</td>\n",
       "      <td>2.479713e+06</td>\n",
       "      <td>2.479713e+06</td>\n",
       "      <td>2.479713e+06</td>\n",
       "      <td>2.479713e+06</td>\n",
       "    </tr>\n",
       "    <tr>\n",
       "      <th>mean</th>\n",
       "      <td>2.202862e+02</td>\n",
       "      <td>1.073764e+02</td>\n",
       "      <td>8.425357e+02</td>\n",
       "      <td>9.552539e+02</td>\n",
       "      <td>4.114961e+00</td>\n",
       "      <td>1.335975e+00</td>\n",
       "      <td>1.835012e+00</td>\n",
       "      <td>3.007723e+01</td>\n",
       "      <td>2.012071e+03</td>\n",
       "      <td>6.634070e+00</td>\n",
       "    </tr>\n",
       "    <tr>\n",
       "      <th>std</th>\n",
       "      <td>1.195863e+02</td>\n",
       "      <td>4.903277e+01</td>\n",
       "      <td>3.083091e+02</td>\n",
       "      <td>1.772916e+03</td>\n",
       "      <td>1.924765e+00</td>\n",
       "      <td>8.027043e-01</td>\n",
       "      <td>7.123236e-01</td>\n",
       "      <td>2.534711e+01</td>\n",
       "      <td>4.822843e+00</td>\n",
       "      <td>3.429003e+00</td>\n",
       "    </tr>\n",
       "    <tr>\n",
       "      <th>min</th>\n",
       "      <td>0.000000e+00</td>\n",
       "      <td>0.000000e+00</td>\n",
       "      <td>0.000000e+00</td>\n",
       "      <td>0.000000e+00</td>\n",
       "      <td>1.000000e+00</td>\n",
       "      <td>1.000000e+00</td>\n",
       "      <td>1.000000e+00</td>\n",
       "      <td>1.000000e+00</td>\n",
       "      <td>2.005000e+03</td>\n",
       "      <td>1.000000e+00</td>\n",
       "    </tr>\n",
       "    <tr>\n",
       "      <th>25%</th>\n",
       "      <td>1.100000e+02</td>\n",
       "      <td>7.200000e+01</td>\n",
       "      <td>6.150000e+02</td>\n",
       "      <td>0.000000e+00</td>\n",
       "      <td>2.000000e+00</td>\n",
       "      <td>1.000000e+00</td>\n",
       "      <td>1.000000e+00</td>\n",
       "      <td>6.000000e+00</td>\n",
       "      <td>2.008000e+03</td>\n",
       "      <td>4.000000e+00</td>\n",
       "    </tr>\n",
       "    <tr>\n",
       "      <th>50%</th>\n",
       "      <td>2.480000e+02</td>\n",
       "      <td>1.200000e+02</td>\n",
       "      <td>8.850000e+02</td>\n",
       "      <td>9.300000e+01</td>\n",
       "      <td>4.000000e+00</td>\n",
       "      <td>1.000000e+00</td>\n",
       "      <td>2.000000e+00</td>\n",
       "      <td>3.000000e+01</td>\n",
       "      <td>2.012000e+03</td>\n",
       "      <td>7.000000e+00</td>\n",
       "    </tr>\n",
       "    <tr>\n",
       "      <th>75%</th>\n",
       "      <td>3.160000e+02</td>\n",
       "      <td>1.410000e+02</td>\n",
       "      <td>1.070000e+03</td>\n",
       "      <td>6.730000e+02</td>\n",
       "      <td>6.000000e+00</td>\n",
       "      <td>1.000000e+00</td>\n",
       "      <td>2.000000e+00</td>\n",
       "      <td>4.500000e+01</td>\n",
       "      <td>2.016000e+03</td>\n",
       "      <td>1.000000e+01</td>\n",
       "    </tr>\n",
       "    <tr>\n",
       "      <th>max</th>\n",
       "      <td>4.280000e+02</td>\n",
       "      <td>2.090000e+02</td>\n",
       "      <td>1.439000e+03</td>\n",
       "      <td>9.999000e+03</td>\n",
       "      <td>7.000000e+00</td>\n",
       "      <td>9.300000e+01</td>\n",
       "      <td>6.700000e+01</td>\n",
       "      <td>9.900000e+01</td>\n",
       "      <td>2.021000e+03</td>\n",
       "      <td>1.200000e+01</td>\n",
       "    </tr>\n",
       "  </tbody>\n",
       "</table>\n",
       "</div>"
      ],
      "text/plain": [
       "       local_authority_district  local_authority_highway          time  \\\n",
       "count              2.479713e+06             2.479713e+06  2.479713e+06   \n",
       "mean               2.202862e+02             1.073764e+02  8.425357e+02   \n",
       "std                1.195863e+02             4.903277e+01  3.083091e+02   \n",
       "min                0.000000e+00             0.000000e+00  0.000000e+00   \n",
       "25%                1.100000e+02             7.200000e+01  6.150000e+02   \n",
       "50%                2.480000e+02             1.200000e+02  8.850000e+02   \n",
       "75%                3.160000e+02             1.410000e+02  1.070000e+03   \n",
       "max                4.280000e+02             2.090000e+02  1.439000e+03   \n",
       "\n",
       "       first_road_number   day_of_week  number_of_casualties  \\\n",
       "count       2.479713e+06  2.479713e+06          2.479713e+06   \n",
       "mean        9.552539e+02  4.114961e+00          1.335975e+00   \n",
       "std         1.772916e+03  1.924765e+00          8.027043e-01   \n",
       "min         0.000000e+00  1.000000e+00          1.000000e+00   \n",
       "25%         0.000000e+00  2.000000e+00          1.000000e+00   \n",
       "50%         9.300000e+01  4.000000e+00          1.000000e+00   \n",
       "75%         6.730000e+02  6.000000e+00          1.000000e+00   \n",
       "max         9.999000e+03  7.000000e+00          9.300000e+01   \n",
       "\n",
       "       number_of_vehicles  police_force  accident_year         month  \n",
       "count        2.479713e+06  2.479713e+06   2.479713e+06  2.479713e+06  \n",
       "mean         1.835012e+00  3.007723e+01   2.012071e+03  6.634070e+00  \n",
       "std          7.123236e-01  2.534711e+01   4.822843e+00  3.429003e+00  \n",
       "min          1.000000e+00  1.000000e+00   2.005000e+03  1.000000e+00  \n",
       "25%          1.000000e+00  6.000000e+00   2.008000e+03  4.000000e+00  \n",
       "50%          2.000000e+00  3.000000e+01   2.012000e+03  7.000000e+00  \n",
       "75%          2.000000e+00  4.500000e+01   2.016000e+03  1.000000e+01  \n",
       "max          6.700000e+01  9.900000e+01   2.021000e+03  1.200000e+01  "
      ]
     },
     "execution_count": 24,
     "metadata": {},
     "output_type": "execute_result"
    }
   ],
   "source": [
    "X_final.describe()"
   ]
  },
  {
   "cell_type": "markdown",
   "id": "a28220c7",
   "metadata": {},
   "source": [
    "## splitting the data"
   ]
  },
  {
   "cell_type": "code",
   "execution_count": 25,
   "id": "31ef4076",
   "metadata": {},
   "outputs": [
    {
     "name": "stdout",
     "output_type": "stream",
     "text": [
      "Training set has 1983770 samples.\n",
      "Testing set has 495943 samples.\n"
     ]
    }
   ],
   "source": [
    "# Split the 'features' and 'income' data into training and testing sets\n",
    "from sklearn.model_selection import train_test_split\n",
    "\n",
    "X_train, X_test, y_train, y_test = train_test_split(X_final, Y_final, test_size = 0.2, random_state = 0)\n",
    "\n",
    "# Show the results of the split\n",
    "print(\"Training set has {} samples.\".format(X_train.shape[0]))\n",
    "print(\"Testing set has {} samples.\".format(X_test.shape[0]))"
   ]
  },
  {
   "cell_type": "markdown",
   "id": "241b3087",
   "metadata": {},
   "source": [
    "## Model Applying"
   ]
  },
  {
   "cell_type": "code",
   "execution_count": 26,
   "id": "d5959b48",
   "metadata": {},
   "outputs": [],
   "source": [
    "target_severity = [\"Fatal\",\"Serious\",\"Slight\"]"
   ]
  },
  {
   "cell_type": "code",
   "execution_count": 27,
   "id": "f071b4c3",
   "metadata": {},
   "outputs": [],
   "source": [
    "#final result df\n",
    "col_val = [\"Training Acc\",\"Test acc\", \"Log Loss\", \"precision\", \"Recall\", \"F1 Score\",\"False Positive Rate\", \"Error Rate\"]\n",
    "Performance_df = pd.DataFrame(columns = col_val)"
   ]
  },
  {
   "cell_type": "code",
   "execution_count": 28,
   "id": "87cf8b76",
   "metadata": {},
   "outputs": [],
   "source": [
    "def plot_conf_matrix(cm):\n",
    "    # Creating a dataframe for a array-formatted Confusion matrix,so it will be easy for plotting.\n",
    "    cm_df = pd.DataFrame(cm,index = ['Fatal', 'Serious', 'Slight'], \n",
    "                         columns = ['Fatal', 'Serious', 'Slight'])\n",
    "    #Plotting the confusion matrix\n",
    "    plt.figure(figsize=(5,4))\n",
    "    sns.heatmap(cm_df, annot=True)\n",
    "    plt.title('Confusion Matrix')\n",
    "    plt.ylabel('Actal Values')\n",
    "    plt.xlabel('Predicted Values')\n",
    "    plt.show()"
   ]
  },
  {
   "cell_type": "code",
   "execution_count": 29,
   "id": "4bb9356e",
   "metadata": {},
   "outputs": [],
   "source": [
    "##https://scikit-learn.org/stable/auto_examples/model_selection/plot_roc.html\n",
    "def plot_auc_roc_curve(classifier, X_train, y_train, X_test, y_test,target_severity):\n",
    "    label_binarizer = LabelBinarizer().fit(y_train)\n",
    "    y_onehot_test = label_binarizer.transform(y_test)\n",
    "    y_onehot_test.shape  # (n_samples, n_classes)\n",
    "    n_classes = len(np.unique(Y_final))\n",
    "    y_score = classifier.predict_proba(X_test)\n",
    "    \n",
    "    fig, ax = plt.subplots(figsize=(6, 6))\n",
    "\n",
    "    colors = cycle([\"aqua\", \"orange\", \"green\"])\n",
    "    for class_id, color in zip(range(n_classes), colors):\n",
    "        RocCurveDisplay.from_predictions(\n",
    "            y_onehot_test[:, class_id],\n",
    "            y_score[:, class_id],\n",
    "            name=f\"ROC curve for {target_severity [class_id]}\",\n",
    "            color=color,\n",
    "            ax=ax,\n",
    "        )\n",
    "\n",
    "    plt.plot([0, 1], [0, 1], \"k--\", label=\"ROC curve for chance level (AUC = 0.5)\")\n",
    "    plt.axis(\"square\")\n",
    "    plt.xlabel(\"False Positive Rate\")\n",
    "    plt.ylabel(\"True Positive Rate\")\n",
    "    plt.title(\"Receiver Operating Characteristic for multiclass\")\n",
    "    plt.legend()\n",
    "    plt.show()"
   ]
  },
  {
   "cell_type": "code",
   "execution_count": 30,
   "id": "7f52aee8",
   "metadata": {},
   "outputs": [],
   "source": [
    "def model_applying(classifier, X_train, y_train, X_test, y_test,target_severity,Performance_df):\n",
    "    classifier.fit(X_train, y_train)\n",
    "    \n",
    "    y_pred_train = classifier.predict(X_train)\n",
    "    y_pred_test = classifier.predict(X_test)\n",
    "    \n",
    "    acc1 = metrics.accuracy_score(y_train, y_pred_train)\n",
    "    acc2 = metrics.accuracy_score(y_test, y_pred_test)\n",
    "    \n",
    "    test_probability = classifier.predict_proba(X_test)\n",
    "    logloss = log_loss(y_test, test_probability)\n",
    "    \n",
    "    report_df = pd.DataFrame(classification_report(y_test, y_pred_test, target_names=target_severity,output_dict=True)).transpose()\n",
    "    \n",
    "    precision = report_df[\"precision\"][\"macro avg\"]\n",
    "    recall = report_df[\"recall\"][\"macro avg\"]\n",
    "    f1_score = report_df[\"f1-score\"][\"macro avg\"]\n",
    "    \n",
    "    cm = confusion_matrix(y_test, y_pred_test)\n",
    "    #FPR and Error Rate setup\n",
    "    TN = cm[0][0]\n",
    "    FN = cm[1][0]\n",
    "    TP = cm[1][1]\n",
    "    FP = cm[0][1]\n",
    "    FPR = FP /(TN + FP)\n",
    "    error_rate = 1-acc2\n",
    "    \n",
    "    \n",
    "    print(\"Training Accuracy: {:.4%}\".format(acc1))\n",
    "    print(classification_report(y_train, y_pred_train, target_names=target_severity ))\n",
    "    print(\"Test Accuracy: {:.4%}\".format(acc2))\n",
    "    print(classification_report(y_test, y_pred_test, target_names=target_severity ))\n",
    "    plot_conf_matrix(cm)\n",
    "    plot_auc_roc_curve(classifier, X_train, y_train, X_test, y_test,target_severity)\n",
    "          \n",
    "          \n",
    "    result_values = pd.DataFrame([[round(acc1*100,3),round(acc2*100,3), round(logloss*100,3),round(precision*100,3), \n",
    "                               round(recall*100,3), round(f1_score*100,3) , round(FPR*100,3),\n",
    "                               round(error_rate*100,3),]], columns= col_val)\n",
    "    Performance_df = Performance_df.append(result_values)\n",
    "    return Performance_df"
   ]
  },
  {
   "cell_type": "markdown",
   "id": "0cf346e7",
   "metadata": {},
   "source": [
    "## 1. applying Random Forest"
   ]
  },
  {
   "cell_type": "code",
   "execution_count": null,
   "id": "0cd41ff3",
   "metadata": {},
   "outputs": [],
   "source": [
    "clf1 = RandomForestClassifier(criterion='entropy', n_estimators=100, random_state=42, max_depth=10)"
   ]
  },
  {
   "cell_type": "code",
   "execution_count": null,
   "id": "7f6412e1",
   "metadata": {
    "scrolled": false
   },
   "outputs": [],
   "source": [
    "print(\"-\"*20+\" Random Forest Classifier \"+\"-\"*20)\n",
    "Performance_df = model_applying(clf1, X_train, y_train, X_test, y_test,target_severity,Performance_df)"
   ]
  },
  {
   "cell_type": "code",
   "execution_count": null,
   "id": "33e17d66",
   "metadata": {},
   "outputs": [],
   "source": [
    "feat_importances1 = pd.Series(clf1.feature_importances_, index=X_final.columns)\n",
    "plt.xlabel('Feature Labels')\n",
    "plt.ylabel('Feature Importances')\n",
    "plt.title('Comparison of different Feature Importances with Random Forest')\n",
    "feat_importances1.nlargest().plot.bar()\n",
    "plt.show()"
   ]
  },
  {
   "cell_type": "code",
   "execution_count": null,
   "id": "d7b32553",
   "metadata": {},
   "outputs": [],
   "source": [
    "Performance_df"
   ]
  },
  {
   "cell_type": "code",
   "execution_count": null,
   "id": "decf394b",
   "metadata": {},
   "outputs": [],
   "source": [
    "Performance_df.to_csv(\"Performance_df.csv\", index= False)"
   ]
  },
  {
   "cell_type": "markdown",
   "id": "55dd98e0",
   "metadata": {},
   "source": [
    "## 2. Applying XGBoost "
   ]
  },
  {
   "cell_type": "code",
   "execution_count": null,
   "id": "b6adb3f8",
   "metadata": {},
   "outputs": [],
   "source": [
    "clf2 = XGBClassifier(learning_rate=0.05, random_state = 0)        "
   ]
  },
  {
   "cell_type": "code",
   "execution_count": null,
   "id": "7b4ab34d",
   "metadata": {},
   "outputs": [],
   "source": [
    "Performance_df = pd.read_csv(\"Performance_df.csv\")"
   ]
  },
  {
   "cell_type": "code",
   "execution_count": null,
   "id": "e88e69b4",
   "metadata": {},
   "outputs": [],
   "source": [
    "print(\"-\"*20+\" XGBoost Classifier \"+\"-\"*20)\n",
    "le = LabelEncoder()\n",
    "y_train1 = le.fit_transform(y_train)\n",
    "y_test1 = le.fit_transform(y_test)\n",
    "Performance_df = model_applying(clf2, X_train, y_train1, X_test, y_test1, target_severity, Performance_df)"
   ]
  },
  {
   "cell_type": "code",
   "execution_count": null,
   "id": "1a99bbb4",
   "metadata": {},
   "outputs": [],
   "source": [
    "Performance_df"
   ]
  },
  {
   "cell_type": "code",
   "execution_count": null,
   "id": "66fc2cb0",
   "metadata": {},
   "outputs": [],
   "source": [
    "Performance_df.to_csv(\"Performance_df.csv\", index= False)"
   ]
  },
  {
   "cell_type": "markdown",
   "id": "fdc354cf",
   "metadata": {},
   "source": [
    "## 3. Applying K-Nearest neighbours"
   ]
  },
  {
   "cell_type": "code",
   "execution_count": null,
   "id": "94044efd",
   "metadata": {},
   "outputs": [],
   "source": [
    "clf3 = KNeighborsClassifier(algorithm='auto', metric='minkowski')  "
   ]
  },
  {
   "cell_type": "code",
   "execution_count": null,
   "id": "2aa6fa05",
   "metadata": {},
   "outputs": [],
   "source": [
    "Performance_df = pd.read_csv(\"Performance_df.csv\")"
   ]
  },
  {
   "cell_type": "code",
   "execution_count": null,
   "id": "1b4a2ed2",
   "metadata": {},
   "outputs": [],
   "source": [
    "print(\"-\"*20+\" K-Nearest neighbours \"+\"-\"*20)\n",
    "Performance_df = model_applying(clf3, X_train, y_train, X_test, y_test,target_severity,Performance_df)"
   ]
  },
  {
   "cell_type": "code",
   "execution_count": null,
   "id": "4ec259d1",
   "metadata": {},
   "outputs": [],
   "source": [
    "Performance_df"
   ]
  },
  {
   "cell_type": "code",
   "execution_count": null,
   "id": "2a934e37",
   "metadata": {},
   "outputs": [],
   "source": [
    "Performance_df.to_csv(\"Performance_df.csv\", index= False)"
   ]
  },
  {
   "cell_type": "markdown",
   "id": "5a3571bd",
   "metadata": {},
   "source": [
    "## 4. Applying AdaBoostClassifier"
   ]
  },
  {
   "cell_type": "code",
   "execution_count": 55,
   "id": "a82f4cfd",
   "metadata": {},
   "outputs": [],
   "source": [
    "clf4 = AdaBoostClassifier( n_estimators=100, learning_rate=0.05, random_state=42)"
   ]
  },
  {
   "cell_type": "code",
   "execution_count": 56,
   "id": "cc6775cd",
   "metadata": {},
   "outputs": [],
   "source": [
    "Performance_df = pd.read_csv(\"Performance_df.csv\")  "
   ]
  },
  {
   "cell_type": "code",
   "execution_count": 57,
   "id": "f07d1ce4",
   "metadata": {},
   "outputs": [
    {
     "name": "stdout",
     "output_type": "stream",
     "text": [
      "-------------------- Adaboost Classifier --------------------\n",
      "Training Accuracy: 83.6806%\n",
      "              precision    recall  f1-score   support\n",
      "\n",
      "       Fatal       0.00      0.00      0.00     26043\n",
      "     Serious       0.00      0.00      0.00    297696\n",
      "      Slight       0.84      1.00      0.91   1660031\n",
      "\n",
      "    accuracy                           0.84   1983770\n",
      "   macro avg       0.28      0.33      0.30   1983770\n",
      "weighted avg       0.70      0.84      0.76   1983770\n",
      "\n",
      "Test Accuracy: 83.7179%\n",
      "              precision    recall  f1-score   support\n",
      "\n",
      "       Fatal       0.00      0.00      0.00      6520\n",
      "     Serious       0.00      0.00      0.00     74230\n",
      "      Slight       0.84      1.00      0.91    415193\n",
      "\n",
      "    accuracy                           0.84    495943\n",
      "   macro avg       0.28      0.33      0.30    495943\n",
      "weighted avg       0.70      0.84      0.76    495943\n",
      "\n"
     ]
    },
    {
     "data": {
      "image/png": "[encoded data removed]",
      "text/plain": [
       "<Figure size 500x400 with 2 Axes>"
      ]
     },
     "metadata": {},
     "output_type": "display_data"
    },
    {
     "data": {
      "image/png": "[encoded data removed]",
      "text/plain": [
       "<Figure size 600x600 with 1 Axes>"
      ]
     },
     "metadata": {},
     "output_type": "display_data"
    }
   ],
   "source": [
    "print(\"-\"*20+\" Adaboost Classifier \"+\"-\"*20)\n",
    "Performance_df = model_applying(clf4, X_train, y_train, X_test, y_test,target_severity,Performance_df)"
   ]
  },
  {
   "cell_type": "code",
   "execution_count": 58,
   "id": "a5a11b37",
   "metadata": {},
   "outputs": [
    {
     "data": {
      "text/html": [
       "<div>\n",
       "<style scoped>\n",
       "    .dataframe tbody tr th:only-of-type {\n",
       "        vertical-align: middle;\n",
       "    }\n",
       "\n",
       "    .dataframe tbody tr th {\n",
       "        vertical-align: top;\n",
       "    }\n",
       "\n",
       "    .dataframe thead th {\n",
       "        text-align: right;\n",
       "    }\n",
       "</style>\n",
       "<table border=\"1\" class=\"dataframe\">\n",
       "  <thead>\n",
       "    <tr style=\"text-align: right;\">\n",
       "      <th></th>\n",
       "      <th>Training Acc</th>\n",
       "      <th>Test acc</th>\n",
       "      <th>Log Loss</th>\n",
       "      <th>precision</th>\n",
       "      <th>Recall</th>\n",
       "      <th>F1 Score</th>\n",
       "      <th>False Positive Rate</th>\n",
       "      <th>Error Rate</th>\n",
       "    </tr>\n",
       "  </thead>\n",
       "  <tbody>\n",
       "    <tr>\n",
       "      <th>0</th>\n",
       "      <td>83.693</td>\n",
       "      <td>83.720</td>\n",
       "      <td>46.819</td>\n",
       "      <td>44.248</td>\n",
       "      <td>33.343</td>\n",
       "      <td>30.402</td>\n",
       "      <td>100.000</td>\n",
       "      <td>16.280</td>\n",
       "    </tr>\n",
       "    <tr>\n",
       "      <th>1</th>\n",
       "      <td>83.693</td>\n",
       "      <td>83.720</td>\n",
       "      <td>47.128</td>\n",
       "      <td>60.232</td>\n",
       "      <td>33.371</td>\n",
       "      <td>30.466</td>\n",
       "      <td>95.652</td>\n",
       "      <td>16.280</td>\n",
       "    </tr>\n",
       "    <tr>\n",
       "      <th>2</th>\n",
       "      <td>84.613</td>\n",
       "      <td>81.374</td>\n",
       "      <td>299.909</td>\n",
       "      <td>35.658</td>\n",
       "      <td>33.894</td>\n",
       "      <td>32.782</td>\n",
       "      <td>95.274</td>\n",
       "      <td>18.626</td>\n",
       "    </tr>\n",
       "    <tr>\n",
       "      <th>0</th>\n",
       "      <td>83.681</td>\n",
       "      <td>83.718</td>\n",
       "      <td>81.645</td>\n",
       "      <td>27.906</td>\n",
       "      <td>33.333</td>\n",
       "      <td>30.379</td>\n",
       "      <td>NaN</td>\n",
       "      <td>16.282</td>\n",
       "    </tr>\n",
       "  </tbody>\n",
       "</table>\n",
       "</div>"
      ],
      "text/plain": [
       "   Training Acc  Test acc  Log Loss  precision  Recall  F1 Score  \\\n",
       "0        83.693    83.720    46.819     44.248  33.343    30.402   \n",
       "1        83.693    83.720    47.128     60.232  33.371    30.466   \n",
       "2        84.613    81.374   299.909     35.658  33.894    32.782   \n",
       "0        83.681    83.718    81.645     27.906  33.333    30.379   \n",
       "\n",
       "   False Positive Rate  Error Rate  \n",
       "0              100.000      16.280  \n",
       "1               95.652      16.280  \n",
       "2               95.274      18.626  \n",
       "0                  NaN      16.282  "
      ]
     },
     "execution_count": 58,
     "metadata": {},
     "output_type": "execute_result"
    }
   ],
   "source": [
    "Performance_df"
   ]
  },
  {
   "cell_type": "code",
   "execution_count": 59,
   "id": "99a99905",
   "metadata": {},
   "outputs": [],
   "source": [
    "Performance_df.to_csv(\"Performance_df.csv\", index= False)"
   ]
  },
  {
   "cell_type": "markdown",
   "id": "bf6c2f0e",
   "metadata": {},
   "source": [
    "## 5. Applying Bagging Classifier"
   ]
  },
  {
   "cell_type": "code",
   "execution_count": 63,
   "id": "eca37991",
   "metadata": {},
   "outputs": [],
   "source": [
    "clf5 = BaggingClassifier(max_features=X_train.shape[1], n_estimators=100, random_state=42)"
   ]
  },
  {
   "cell_type": "code",
   "execution_count": 64,
   "id": "b89b52ff",
   "metadata": {},
   "outputs": [],
   "source": [
    "Performance_df = pd.read_csv(\"Performance_df.csv\")"
   ]
  },
  {
   "cell_type": "code",
   "execution_count": 65,
   "id": "5dc39fd9",
   "metadata": {},
   "outputs": [
    {
     "name": "stdout",
     "output_type": "stream",
     "text": [
      "-------------------- Bagging Classifier --------------------\n",
      "Training Accuracy: 99.9842%\n",
      "              precision    recall  f1-score   support\n",
      "\n",
      "       Fatal       1.00      1.00      1.00     26043\n",
      "     Serious       1.00      1.00      1.00    297696\n",
      "      Slight       1.00      1.00      1.00   1660031\n",
      "\n",
      "    accuracy                           1.00   1983770\n",
      "   macro avg       1.00      1.00      1.00   1983770\n",
      "weighted avg       1.00      1.00      1.00   1983770\n",
      "\n",
      "Test Accuracy: 82.9747%\n",
      "              precision    recall  f1-score   support\n",
      "\n",
      "       Fatal       0.12      0.00      0.00      6520\n",
      "     Serious       0.29      0.04      0.07     74230\n",
      "      Slight       0.84      0.98      0.91    415193\n",
      "\n",
      "    accuracy                           0.83    495943\n",
      "   macro avg       0.42      0.34      0.33    495943\n",
      "weighted avg       0.75      0.83      0.77    495943\n",
      "\n"
     ]
    },
    {
     "data": {
      "image/png": "[encoded data removed]",
      "text/plain": [
       "<Figure size 500x400 with 2 Axes>"
      ]
     },
     "metadata": {},
     "output_type": "display_data"
    },
    {
     "data": {
      "image/png": "[encoded data removed]",
      "text/plain": [
       "<Figure size 600x600 with 1 Axes>"
      ]
     },
     "metadata": {},
     "output_type": "display_data"
    }
   ],
   "source": [
    "print(\"-\"*20+\" Bagging Classifier \"+\"-\"*20)\n",
    "Performance_df = model_applying(clf5, X_train, y_train, X_test, y_test,target_severity,Performance_df)"
   ]
  },
  {
   "cell_type": "code",
   "execution_count": 66,
   "id": "1e70b58d",
   "metadata": {},
   "outputs": [
    {
     "data": {
      "text/html": [
       "<div>\n",
       "<style scoped>\n",
       "    .dataframe tbody tr th:only-of-type {\n",
       "        vertical-align: middle;\n",
       "    }\n",
       "\n",
       "    .dataframe tbody tr th {\n",
       "        vertical-align: top;\n",
       "    }\n",
       "\n",
       "    .dataframe thead th {\n",
       "        text-align: right;\n",
       "    }\n",
       "</style>\n",
       "<table border=\"1\" class=\"dataframe\">\n",
       "  <thead>\n",
       "    <tr style=\"text-align: right;\">\n",
       "      <th></th>\n",
       "      <th>Training Acc</th>\n",
       "      <th>Test acc</th>\n",
       "      <th>Log Loss</th>\n",
       "      <th>precision</th>\n",
       "      <th>Recall</th>\n",
       "      <th>F1 Score</th>\n",
       "      <th>False Positive Rate</th>\n",
       "      <th>Error Rate</th>\n",
       "    </tr>\n",
       "  </thead>\n",
       "  <tbody>\n",
       "    <tr>\n",
       "      <th>0</th>\n",
       "      <td>83.693</td>\n",
       "      <td>83.720</td>\n",
       "      <td>46.819</td>\n",
       "      <td>44.248</td>\n",
       "      <td>33.343</td>\n",
       "      <td>30.402</td>\n",
       "      <td>100.000</td>\n",
       "      <td>16.280</td>\n",
       "    </tr>\n",
       "    <tr>\n",
       "      <th>1</th>\n",
       "      <td>83.693</td>\n",
       "      <td>83.720</td>\n",
       "      <td>47.128</td>\n",
       "      <td>60.232</td>\n",
       "      <td>33.371</td>\n",
       "      <td>30.466</td>\n",
       "      <td>95.652</td>\n",
       "      <td>16.280</td>\n",
       "    </tr>\n",
       "    <tr>\n",
       "      <th>2</th>\n",
       "      <td>84.613</td>\n",
       "      <td>81.374</td>\n",
       "      <td>299.909</td>\n",
       "      <td>35.658</td>\n",
       "      <td>33.894</td>\n",
       "      <td>32.782</td>\n",
       "      <td>95.274</td>\n",
       "      <td>18.626</td>\n",
       "    </tr>\n",
       "    <tr>\n",
       "      <th>3</th>\n",
       "      <td>83.681</td>\n",
       "      <td>83.718</td>\n",
       "      <td>81.645</td>\n",
       "      <td>27.906</td>\n",
       "      <td>33.333</td>\n",
       "      <td>30.379</td>\n",
       "      <td>NaN</td>\n",
       "      <td>16.282</td>\n",
       "    </tr>\n",
       "    <tr>\n",
       "      <th>0</th>\n",
       "      <td>99.984</td>\n",
       "      <td>82.975</td>\n",
       "      <td>62.579</td>\n",
       "      <td>41.603</td>\n",
       "      <td>34.136</td>\n",
       "      <td>32.584</td>\n",
       "      <td>96.328</td>\n",
       "      <td>17.025</td>\n",
       "    </tr>\n",
       "  </tbody>\n",
       "</table>\n",
       "</div>"
      ],
      "text/plain": [
       "   Training Acc  Test acc  Log Loss  precision  Recall  F1 Score  \\\n",
       "0        83.693    83.720    46.819     44.248  33.343    30.402   \n",
       "1        83.693    83.720    47.128     60.232  33.371    30.466   \n",
       "2        84.613    81.374   299.909     35.658  33.894    32.782   \n",
       "3        83.681    83.718    81.645     27.906  33.333    30.379   \n",
       "0        99.984    82.975    62.579     41.603  34.136    32.584   \n",
       "\n",
       "   False Positive Rate  Error Rate  \n",
       "0              100.000      16.280  \n",
       "1               95.652      16.280  \n",
       "2               95.274      18.626  \n",
       "3                  NaN      16.282  \n",
       "0               96.328      17.025  "
      ]
     },
     "execution_count": 66,
     "metadata": {},
     "output_type": "execute_result"
    }
   ],
   "source": [
    "Performance_df"
   ]
  },
  {
   "cell_type": "code",
   "execution_count": 67,
   "id": "aece5932",
   "metadata": {},
   "outputs": [],
   "source": [
    "Performance_df.to_csv(\"Performance_df.csv\", index= False)"
   ]
  },
  {
   "cell_type": "code",
   "execution_count": 76,
   "id": "4c7866a2",
   "metadata": {},
   "outputs": [
    {
     "data": {
      "text/html": [
       "<div>\n",
       "<style scoped>\n",
       "    .dataframe tbody tr th:only-of-type {\n",
       "        vertical-align: middle;\n",
       "    }\n",
       "\n",
       "    .dataframe tbody tr th {\n",
       "        vertical-align: top;\n",
       "    }\n",
       "\n",
       "    .dataframe thead th {\n",
       "        text-align: right;\n",
       "    }\n",
       "</style>\n",
       "<table border=\"1\" class=\"dataframe\">\n",
       "  <thead>\n",
       "    <tr style=\"text-align: right;\">\n",
       "      <th></th>\n",
       "      <th>Name of Classifier</th>\n",
       "      <th>Training Acc</th>\n",
       "      <th>Test acc</th>\n",
       "      <th>Log Loss</th>\n",
       "      <th>precision</th>\n",
       "      <th>Recall</th>\n",
       "      <th>F1 Score</th>\n",
       "      <th>False Positive Rate</th>\n",
       "      <th>Error Rate</th>\n",
       "    </tr>\n",
       "  </thead>\n",
       "  <tbody>\n",
       "    <tr>\n",
       "      <th>0</th>\n",
       "      <td>Random Forest</td>\n",
       "      <td>83.693</td>\n",
       "      <td>83.720</td>\n",
       "      <td>46.819</td>\n",
       "      <td>44.248</td>\n",
       "      <td>33.343</td>\n",
       "      <td>30.402</td>\n",
       "      <td>100.000</td>\n",
       "      <td>16.280</td>\n",
       "    </tr>\n",
       "    <tr>\n",
       "      <th>1</th>\n",
       "      <td>XGBoost</td>\n",
       "      <td>83.693</td>\n",
       "      <td>83.720</td>\n",
       "      <td>47.128</td>\n",
       "      <td>60.232</td>\n",
       "      <td>33.371</td>\n",
       "      <td>30.466</td>\n",
       "      <td>95.652</td>\n",
       "      <td>16.280</td>\n",
       "    </tr>\n",
       "    <tr>\n",
       "      <th>2</th>\n",
       "      <td>KNeighborsClassifier</td>\n",
       "      <td>84.613</td>\n",
       "      <td>81.374</td>\n",
       "      <td>299.909</td>\n",
       "      <td>35.658</td>\n",
       "      <td>33.894</td>\n",
       "      <td>32.782</td>\n",
       "      <td>95.274</td>\n",
       "      <td>18.626</td>\n",
       "    </tr>\n",
       "    <tr>\n",
       "      <th>3</th>\n",
       "      <td>AdaBoost</td>\n",
       "      <td>83.681</td>\n",
       "      <td>83.718</td>\n",
       "      <td>81.645</td>\n",
       "      <td>27.906</td>\n",
       "      <td>33.333</td>\n",
       "      <td>30.379</td>\n",
       "      <td>NaN</td>\n",
       "      <td>16.282</td>\n",
       "    </tr>\n",
       "    <tr>\n",
       "      <th>0</th>\n",
       "      <td>Bagging Classifier</td>\n",
       "      <td>99.984</td>\n",
       "      <td>82.975</td>\n",
       "      <td>62.579</td>\n",
       "      <td>41.603</td>\n",
       "      <td>34.136</td>\n",
       "      <td>32.584</td>\n",
       "      <td>96.328</td>\n",
       "      <td>17.025</td>\n",
       "    </tr>\n",
       "  </tbody>\n",
       "</table>\n",
       "</div>"
      ],
      "text/plain": [
       "      Name of Classifier  Training Acc  Test acc  Log Loss  precision  Recall  \\\n",
       "0          Random Forest        83.693    83.720    46.819     44.248  33.343   \n",
       "1                XGBoost        83.693    83.720    47.128     60.232  33.371   \n",
       "2   KNeighborsClassifier        84.613    81.374   299.909     35.658  33.894   \n",
       "3               AdaBoost        83.681    83.718    81.645     27.906  33.333   \n",
       "0     Bagging Classifier        99.984    82.975    62.579     41.603  34.136   \n",
       "\n",
       "   F1 Score  False Positive Rate  Error Rate  \n",
       "0    30.402              100.000      16.280  \n",
       "1    30.466               95.652      16.280  \n",
       "2    32.782               95.274      18.626  \n",
       "3    30.379                  NaN      16.282  \n",
       "0    32.584               96.328      17.025  "
      ]
     },
     "execution_count": 76,
     "metadata": {},
     "output_type": "execute_result"
    }
   ],
   "source": [
    "Performance_df"
   ]
  },
  {
   "cell_type": "markdown",
   "id": "24202332",
   "metadata": {},
   "source": [
    "#### at the last result stage I reliazed i forgot most important thing , i didnt mention the names of classifier so doing this necessary arrangement now."
   ]
  },
  {
   "cell_type": "code",
   "execution_count": 70,
   "id": "d2fc07fb",
   "metadata": {},
   "outputs": [],
   "source": [
    "Classifiers_name = ['Random Forest', 'XGBoost',' KNeighborsClassifier','AdaBoost','Bagging Classifier']"
   ]
  },
  {
   "cell_type": "code",
   "execution_count": 71,
   "id": "9b800ad1",
   "metadata": {},
   "outputs": [],
   "source": [
    "Performance_df[\"Name of Classifier\"] = Classifiers_name"
   ]
  },
  {
   "cell_type": "code",
   "execution_count": 75,
   "id": "dfe623d9",
   "metadata": {},
   "outputs": [],
   "source": [
    "cols = ['Name of Classifier', 'Training Acc','Test acc','Log Loss','precision','Recall','F1 Score','False Positive Rate',\n",
    "        'Error Rate']\n",
    "Performance_df = Performance_df[cols]"
   ]
  },
  {
   "cell_type": "code",
   "execution_count": null,
   "id": "2b54c619",
   "metadata": {},
   "outputs": [],
   "source": []
  }
 ],
 "metadata": {
  "kernelspec": {
   "display_name": "Python 3 (ipykernel)",
   "language": "python",
   "name": "python3"
  },
  "language_info": {
   "codemirror_mode": {
    "name": "ipython",
    "version": 3
   },
   "file_extension": ".py",
   "mimetype": "text/x-python",
   "name": "python",
   "nbconvert_exporter": "python",
   "pygments_lexer": "ipython3",
   "version": "3.11.2"
  }
 },
 "nbformat": 4,
 "nbformat_minor": 5
}
